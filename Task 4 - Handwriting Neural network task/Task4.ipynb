{
  "nbformat": 4,
  "nbformat_minor": 0,
  "metadata": {
    "colab": {
      "name": "Task4.ipynb",
      "provenance": [],
      "collapsed_sections": []
    },
    "kernelspec": {
      "name": "python3",
      "display_name": "Python 3"
    },
    "language_info": {
      "name": "python"
    }
  },
  "cells": [
    {
      "cell_type": "markdown",
      "source": [
        "LetsGrowMore\n",
        "Task - Develop A Neural Network That Can Read Handwriting"
      ],
      "metadata": {
        "id": "MOi5QXmY7Ryx"
      }
    },
    {
      "cell_type": "code",
      "execution_count": null,
      "metadata": {
        "id": "QeF19_bXIcdC"
      },
      "outputs": [],
      "source": [
        "import tensorflow as tf\n",
        "from tensorflow import keras\n",
        "from tensorflow.keras import Sequential\n",
        "from tensorflow.keras.utils import plot_model\n",
        "from tensorflow.keras.layers import *\n",
        "import matplotlib.pyplot as plt\n",
        "import numpy as np\n",
        "import seaborn as sns\n",
        "from keras.datasets import mnist\n",
        "import random\n",
        "from numpy import argmax"
      ]
    },
    {
      "cell_type": "code",
      "source": [
        "(x_train,y_train),(x_test,y_test) = mnist.load_data()"
      ],
      "metadata": {
        "colab": {
          "base_uri": "https://localhost:8080/"
        },
        "id": "l8F3ajvpKWjt",
        "outputId": "72c4d8d7-ebf5-4cab-9c7d-e811c028f39d"
      },
      "execution_count": null,
      "outputs": [
        {
          "output_type": "stream",
          "name": "stdout",
          "text": [
            "Downloading data from https://storage.googleapis.com/tensorflow/tf-keras-datasets/mnist.npz\n",
            "11493376/11490434 [==============================] - 0s 0us/step\n",
            "11501568/11490434 [==============================] - 0s 0us/step\n"
          ]
        }
      ]
    },
    {
      "cell_type": "code",
      "source": [
        "#60,000 images as input data with shape 28 x 28 each\n",
        "x_train.shape, y_train.shape, x_test.shape, y_test.shape"
      ],
      "metadata": {
        "id": "w1PyL5Pq7bL1",
        "outputId": "5f34c1a4-9c57-4834-ff98-c49c6690ce72",
        "colab": {
          "base_uri": "https://localhost:8080/"
        }
      },
      "execution_count": null,
      "outputs": [
        {
          "output_type": "execute_result",
          "data": {
            "text/plain": [
              "((60000, 28, 28), (60000,), (10000, 28, 28), (10000,))"
            ]
          },
          "metadata": {},
          "execution_count": 3
        }
      ]
    },
    {
      "cell_type": "code",
      "source": [
        "# sample images\n",
        "for i in range (1,6):\n",
        "    plt.subplot(1,5,i)\n",
        "    plt.imshow(x_train[random.randint(0,5000)])"
      ],
      "metadata": {
        "id": "fA4Y_A7v7fHO",
        "outputId": "aa342f2c-0019-4a92-8c73-5668fe5f7f62",
        "colab": {
          "base_uri": "https://localhost:8080/",
          "height": 109
        }
      },
      "execution_count": null,
      "outputs": [
        {
          "output_type": "display_data",
          "data": {
            "text/plain": [
              "<Figure size 432x288 with 5 Axes>"
            ],
            "image/png": "[encoded data removed]"
          },
          "metadata": {
            "needs_background": "light"
          }
        }
      ]
    },
    {
      "cell_type": "code",
      "source": [
        "x_train = x_train.reshape( (x_train.shape[0] , x_train.shape[1] , x_train.shape[2] , 1) )\n",
        "x_test = x_test.reshape( (x_test.shape[0] , x_test.shape[1] , x_test.shape[2] , 1) )\n",
        "x_train =  x_train.astype('float32') / 255.0\n",
        "x_test =  x_test.astype('float32') / 255.0"
      ],
      "metadata": {
        "id": "ZqCPfCKQ7h2r"
      },
      "execution_count": null,
      "outputs": []
    },
    {
      "cell_type": "code",
      "source": [
        "model= Sequential()\n",
        "model.add(Conv2D(32, (3,3) , activation='relu' , input_shape=(28,28,1)))\n",
        "model.add(MaxPool2D((2,2)))\n",
        "model.add(Conv2D(48, (3,3) , activation='relu' ))\n",
        "model.add(MaxPool2D((2,2)))\n",
        "model.add(Dropout(0.5))\n",
        "model.add(Flatten())\n",
        "model.add(Dense(500,activation='relu' ))\n",
        "model.add(Dense(10,activation='softmax' ))\n",
        "model.summary()"
      ],
      "metadata": {
        "id": "23noLaWt7lxM",
        "outputId": "b659d3bd-4b60-483b-fcb8-583d3079048a",
        "colab": {
          "base_uri": "https://localhost:8080/"
        }
      },
      "execution_count": 9,
      "outputs": [
        {
          "output_type": "stream",
          "name": "stdout",
          "text": [
            "Model: \"sequential\"\n",
            "_________________________________________________________________\n",
            " Layer (type)                Output Shape              Param #   \n",
            "=================================================================\n",
            " conv2d (Conv2D)             (None, 26, 26, 32)        320       \n",
            "                                                                 \n",
            " max_pooling2d (MaxPooling2D  (None, 13, 13, 32)       0         \n",
            " )                                                               \n",
            "                                                                 \n",
            " conv2d_1 (Conv2D)           (None, 11, 11, 48)        13872     \n",
            "                                                                 \n",
            " max_pooling2d_1 (MaxPooling  (None, 5, 5, 48)         0         \n",
            " 2D)                                                             \n",
            "                                                                 \n",
            " dropout (Dropout)           (None, 5, 5, 48)          0         \n",
            "                                                                 \n",
            " flatten (Flatten)           (None, 1200)              0         \n",
            "                                                                 \n",
            " dense (Dense)               (None, 500)               600500    \n",
            "                                                                 \n",
            " dense_1 (Dense)             (None, 10)                5010      \n",
            "                                                                 \n",
            "=================================================================\n",
            "Total params: 619,702\n",
            "Trainable params: 619,702\n",
            "Non-trainable params: 0\n",
            "_________________________________________________________________\n"
          ]
        }
      ]
    },
    {
      "cell_type": "code",
      "source": [
        "model.compile(optimizer='adam',loss='sparse_categorical_crossentropy',metrics=['accuracy'])\n",
        "model.fit(x_train, y_train, epochs=1, verbose =1 , batch_size=128, validation_split=0.1)"
      ],
      "metadata": {
        "colab": {
          "base_uri": "https://localhost:8080/"
        },
        "id": "sWqIDyVM8Ftq",
        "outputId": "e34ee12b-18a0-4349-cda2-64c42d1624ac"
      },
      "execution_count": 11,
      "outputs": [
        {
          "output_type": "stream",
          "name": "stdout",
          "text": [
            "422/422 [==============================] - 41s 95ms/step - loss: 0.5143 - accuracy: 0.8397 - val_loss: 0.2156 - val_accuracy: 0.9437\n"
          ]
        },
        {
          "output_type": "execute_result",
          "data": {
            "text/plain": [
              "<keras.callbacks.History at 0x7f0410b8cb10>"
            ]
          },
          "metadata": {},
          "execution_count": 11
        }
      ]
    },
    {
      "cell_type": "code",
      "source": [
        "loss,acc = model.evaluate(x_test,y_test,verbose=0)\n",
        "print(\"accuracy = \",acc*100, \"%\")"
      ],
      "metadata": {
        "colab": {
          "base_uri": "https://localhost:8080/"
        },
        "id": "3H7kG3oc8O3a",
        "outputId": "6e7502c8-daff-44cb-dc2b-790ad6e67294"
      },
      "execution_count": 12,
      "outputs": [
        {
          "output_type": "stream",
          "name": "stdout",
          "text": [
            "accuracy =  92.79999732971191 %\n"
          ]
        }
      ]
    },
    {
      "cell_type": "code",
      "source": [
        "n = random.randint(0,5000)\n",
        "test_img = x_train[n]\n",
        "plt.imshow(tf.squeeze(test_img))\n",
        "plt.show()"
      ],
      "metadata": {
        "colab": {
          "base_uri": "https://localhost:8080/",
          "height": 265
        },
        "id": "ODIuJeqY8TlU",
        "outputId": "03a7fee4-59fd-4bab-e4b1-8357bcb1cd8e"
      },
      "execution_count": 19,
      "outputs": [
        {
          "output_type": "display_data",
          "data": {
            "text/plain": [
              "<Figure size 432x288 with 1 Axes>"
            ],
            "image/png": "[encoded data removed]"
          },
          "metadata": {
            "needs_background": "light"
          }
        }
      ]
    },
    {
      "cell_type": "code",
      "source": [
        "test_img = test_img.reshape(1,28,28,1 ) \n",
        "\n",
        "p = model.predict([test_img])\n",
        "print(\"prediction = {} \".format(argmax(p)))"
      ],
      "metadata": {
        "colab": {
          "base_uri": "https://localhost:8080/"
        },
        "id": "ZXIfrccc8lRK",
        "outputId": "1f0a062b-4541-4ab0-da55-47cb399c618e"
      },
      "execution_count": 20,
      "outputs": [
        {
          "output_type": "stream",
          "name": "stdout",
          "text": [
            "prediction = 2 \n"
          ]
        }
      ]
    }
  ]
}